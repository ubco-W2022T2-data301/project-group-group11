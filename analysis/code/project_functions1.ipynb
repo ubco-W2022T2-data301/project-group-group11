{
 "cells": [
  {
   "cell_type": "code",
   "execution_count": null,
   "id": "f86c6a4c-cf29-451f-81c0-404ea012d8ba",
   "metadata": {},
   "outputs": [],
   "source": [
    "import pandas as pd\n",
    "\n",
    "def process(path_to_csv_file_1, path_to_csv_file_2):\n",
    "    # Method Chain 1: load and process data for merging\n",
    "    stocks_df = (\n",
    "        pd.read_csv(path_to_csv_file_1)\n",
    "        .rename(columns={'Adj Close': 'Adj_Close'})\n",
    "        .to_datetime(stocks_df['Date'])\n",
    "    )\n",
    "    \n",
    "    # Method Chain 2: load and process data for merging\n",
    "    iPhone_df = (\n",
    "        pd.read_csv(path_to_csv_file_1)\n",
    "        .to_datetime(iPhone_df['Release_Date'])   \n",
    "    )\n",
    "    \n",
    "    # Method Chain 3: merge the two dataframes\n",
    "    df = (\n",
    "        pd.merge(stocks_df, iPhone_df, how='outer', left_on='Date', right_on='Release_Date')\n",
    "    )\n",
    "    \n",
    "    # Method Chain 4: create new columns, drop unneeded columns, and drop unneeded rows\n",
    "    df = (\n",
    "        df.assign(Change = df['Close'] - df['Open'])\n",
    "        \n",
    "    )\n",
    "        "
   ]
  }
 ],
 "metadata": {
  "kernelspec": {
   "display_name": "Python 3 (ipykernel)",
   "language": "python",
   "name": "python3"
  },
  "language_info": {
   "codemirror_mode": {
    "name": "ipython",
    "version": 3
   },
   "file_extension": ".py",
   "mimetype": "text/x-python",
   "name": "python",
   "nbconvert_exporter": "python",
   "pygments_lexer": "ipython3",
   "version": "3.10.8"
  }
 },
 "nbformat": 4,
 "nbformat_minor": 5
}
