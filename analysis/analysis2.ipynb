{
 "cells": [
  {
   "cell_type": "markdown",
   "metadata": {
    "tags": []
   },
   "source": [
    "# Stefan Spataro"
   ]
  },
  {
   "cell_type": "markdown",
   "metadata": {
    "tags": []
   },
   "source": [
    "## Research question/interests\n",
    "\n",
    "**How does the stock price of a tech company compare to the stock price of its competitors at a certain time?** For example, if Apple (AAPL: NASDAQ) and Microsoft (MSFT: NASDAQ) have common price increases, and say APPL increases by 10%, could we discover more details about the market price of MSFT? Factors we could analyze could be the difference in price increases, volume of stocks traded, and time of continuously increasing prices. This data analysis could output relevant results to help investors make decisions when researching opportunities in the tech sector. After conducting an EDA into both MSFT and AAPL dataframes, I realize I may not be able to discover as much information as I previously thought. However, my goal is to analyze more into the percent change between the two companies to discover more information about their relation."
   ]
  },
  {
   "cell_type": "markdown",
   "metadata": {},
   "source": [
    "**imports:** pandas, numpy, seaborn"
   ]
  },
  {
   "cell_type": "code",
   "execution_count": 1,
   "metadata": {},
   "outputs": [],
   "source": [
    "import pandas as pd\n",
    "import numpy as np\n",
    "import seaborn as sns\n",
    "import matplotlib.pyplot as plt\n",
    "import matplotlib.dates as mdates\n",
    "from IPython.display import display_html\n",
    "from matplotlib.pyplot import figure"
   ]
  },
  {
   "cell_type": "markdown",
   "metadata": {},
   "source": [
    "**Import data**"
   ]
  },
  {
   "cell_type": "code",
   "execution_count": 2,
   "metadata": {},
   "outputs": [
    {
     "data": {
      "text/html": [
       "<style type=\"text/css\">\n",
       "</style>\n",
       "<table id=\"T_76a72\" style='display:inline'>\n",
       "  <caption>df1</caption>\n",
       "  <thead>\n",
       "    <tr>\n",
       "      <th class=\"blank level0\" >&nbsp;</th>\n",
       "      <th id=\"T_76a72_level0_col0\" class=\"col_heading level0 col0\" >Date</th>\n",
       "      <th id=\"T_76a72_level0_col1\" class=\"col_heading level0 col1\" >Open</th>\n",
       "      <th id=\"T_76a72_level0_col2\" class=\"col_heading level0 col2\" >High</th>\n",
       "      <th id=\"T_76a72_level0_col3\" class=\"col_heading level0 col3\" >Low</th>\n",
       "      <th id=\"T_76a72_level0_col4\" class=\"col_heading level0 col4\" >Close</th>\n",
       "      <th id=\"T_76a72_level0_col5\" class=\"col_heading level0 col5\" >Adj Close</th>\n",
       "      <th id=\"T_76a72_level0_col6\" class=\"col_heading level0 col6\" >Volume</th>\n",
       "    </tr>\n",
       "  </thead>\n",
       "  <tbody>\n",
       "    <tr>\n",
       "      <th id=\"T_76a72_level0_row0\" class=\"row_heading level0 row0\" >0</th>\n",
       "      <td id=\"T_76a72_row0_col0\" class=\"data row0 col0\" >2010-01-04</td>\n",
       "      <td id=\"T_76a72_row0_col1\" class=\"data row0 col1\" >7.622500</td>\n",
       "      <td id=\"T_76a72_row0_col2\" class=\"data row0 col2\" >7.660714</td>\n",
       "      <td id=\"T_76a72_row0_col3\" class=\"data row0 col3\" >7.585000</td>\n",
       "      <td id=\"T_76a72_row0_col4\" class=\"data row0 col4\" >7.643214</td>\n",
       "      <td id=\"T_76a72_row0_col5\" class=\"data row0 col5\" >6.515213</td>\n",
       "      <td id=\"T_76a72_row0_col6\" class=\"data row0 col6\" >493729600</td>\n",
       "    </tr>\n",
       "    <tr>\n",
       "      <th id=\"T_76a72_level0_row1\" class=\"row_heading level0 row1\" >1</th>\n",
       "      <td id=\"T_76a72_row1_col0\" class=\"data row1 col0\" >2010-01-05</td>\n",
       "      <td id=\"T_76a72_row1_col1\" class=\"data row1 col1\" >7.664286</td>\n",
       "      <td id=\"T_76a72_row1_col2\" class=\"data row1 col2\" >7.699643</td>\n",
       "      <td id=\"T_76a72_row1_col3\" class=\"data row1 col3\" >7.616071</td>\n",
       "      <td id=\"T_76a72_row1_col4\" class=\"data row1 col4\" >7.656429</td>\n",
       "      <td id=\"T_76a72_row1_col5\" class=\"data row1 col5\" >6.526476</td>\n",
       "      <td id=\"T_76a72_row1_col6\" class=\"data row1 col6\" >601904800</td>\n",
       "    </tr>\n",
       "    <tr>\n",
       "      <th id=\"T_76a72_level0_row2\" class=\"row_heading level0 row2\" >2</th>\n",
       "      <td id=\"T_76a72_row2_col0\" class=\"data row2 col0\" >2010-01-06</td>\n",
       "      <td id=\"T_76a72_row2_col1\" class=\"data row2 col1\" >7.656429</td>\n",
       "      <td id=\"T_76a72_row2_col2\" class=\"data row2 col2\" >7.686786</td>\n",
       "      <td id=\"T_76a72_row2_col3\" class=\"data row2 col3\" >7.526786</td>\n",
       "      <td id=\"T_76a72_row2_col4\" class=\"data row2 col4\" >7.534643</td>\n",
       "      <td id=\"T_76a72_row2_col5\" class=\"data row2 col5\" >6.422664</td>\n",
       "      <td id=\"T_76a72_row2_col6\" class=\"data row2 col6\" >552160000</td>\n",
       "    </tr>\n",
       "    <tr>\n",
       "      <th id=\"T_76a72_level0_row3\" class=\"row_heading level0 row3\" >3</th>\n",
       "      <td id=\"T_76a72_row3_col0\" class=\"data row3 col0\" >2010-01-07</td>\n",
       "      <td id=\"T_76a72_row3_col1\" class=\"data row3 col1\" >7.562500</td>\n",
       "      <td id=\"T_76a72_row3_col2\" class=\"data row3 col2\" >7.571429</td>\n",
       "      <td id=\"T_76a72_row3_col3\" class=\"data row3 col3\" >7.466071</td>\n",
       "      <td id=\"T_76a72_row3_col4\" class=\"data row3 col4\" >7.520714</td>\n",
       "      <td id=\"T_76a72_row3_col5\" class=\"data row3 col5\" >6.410790</td>\n",
       "      <td id=\"T_76a72_row3_col6\" class=\"data row3 col6\" >477131200</td>\n",
       "    </tr>\n",
       "    <tr>\n",
       "      <th id=\"T_76a72_level0_row4\" class=\"row_heading level0 row4\" >4</th>\n",
       "      <td id=\"T_76a72_row4_col0\" class=\"data row4 col0\" >2010-01-08</td>\n",
       "      <td id=\"T_76a72_row4_col1\" class=\"data row4 col1\" >7.510714</td>\n",
       "      <td id=\"T_76a72_row4_col2\" class=\"data row4 col2\" >7.571429</td>\n",
       "      <td id=\"T_76a72_row4_col3\" class=\"data row4 col3\" >7.466429</td>\n",
       "      <td id=\"T_76a72_row4_col4\" class=\"data row4 col4\" >7.570714</td>\n",
       "      <td id=\"T_76a72_row4_col5\" class=\"data row4 col5\" >6.453412</td>\n",
       "      <td id=\"T_76a72_row4_col6\" class=\"data row4 col6\" >447610800</td>\n",
       "    </tr>\n",
       "  </tbody>\n",
       "</table>\n",
       "<style type=\"text/css\">\n",
       "</style>\n",
       "<table id=\"T_301ad\" style='display:inline'>\n",
       "  <caption>df2</caption>\n",
       "  <thead>\n",
       "    <tr>\n",
       "      <th class=\"blank level0\" >&nbsp;</th>\n",
       "      <th id=\"T_301ad_level0_col0\" class=\"col_heading level0 col0\" >Date</th>\n",
       "      <th id=\"T_301ad_level0_col1\" class=\"col_heading level0 col1\" >Open</th>\n",
       "      <th id=\"T_301ad_level0_col2\" class=\"col_heading level0 col2\" >High</th>\n",
       "      <th id=\"T_301ad_level0_col3\" class=\"col_heading level0 col3\" >Low</th>\n",
       "      <th id=\"T_301ad_level0_col4\" class=\"col_heading level0 col4\" >Close</th>\n",
       "      <th id=\"T_301ad_level0_col5\" class=\"col_heading level0 col5\" >Adj Close</th>\n",
       "      <th id=\"T_301ad_level0_col6\" class=\"col_heading level0 col6\" >Volume</th>\n",
       "    </tr>\n",
       "  </thead>\n",
       "  <tbody>\n",
       "    <tr>\n",
       "      <th id=\"T_301ad_level0_row0\" class=\"row_heading level0 row0\" >0</th>\n",
       "      <td id=\"T_301ad_row0_col0\" class=\"data row0 col0\" >2010-01-04</td>\n",
       "      <td id=\"T_301ad_row0_col1\" class=\"data row0 col1\" >30.620001</td>\n",
       "      <td id=\"T_301ad_row0_col2\" class=\"data row0 col2\" >31.100000</td>\n",
       "      <td id=\"T_301ad_row0_col3\" class=\"data row0 col3\" >30.590000</td>\n",
       "      <td id=\"T_301ad_row0_col4\" class=\"data row0 col4\" >30.950001</td>\n",
       "      <td id=\"T_301ad_row0_col5\" class=\"data row0 col5\" >23.683071</td>\n",
       "      <td id=\"T_301ad_row0_col6\" class=\"data row0 col6\" >38409100</td>\n",
       "    </tr>\n",
       "    <tr>\n",
       "      <th id=\"T_301ad_level0_row1\" class=\"row_heading level0 row1\" >1</th>\n",
       "      <td id=\"T_301ad_row1_col0\" class=\"data row1 col0\" >2010-01-05</td>\n",
       "      <td id=\"T_301ad_row1_col1\" class=\"data row1 col1\" >30.850000</td>\n",
       "      <td id=\"T_301ad_row1_col2\" class=\"data row1 col2\" >31.100000</td>\n",
       "      <td id=\"T_301ad_row1_col3\" class=\"data row1 col3\" >30.639999</td>\n",
       "      <td id=\"T_301ad_row1_col4\" class=\"data row1 col4\" >30.959999</td>\n",
       "      <td id=\"T_301ad_row1_col5\" class=\"data row1 col5\" >23.690725</td>\n",
       "      <td id=\"T_301ad_row1_col6\" class=\"data row1 col6\" >49749600</td>\n",
       "    </tr>\n",
       "    <tr>\n",
       "      <th id=\"T_301ad_level0_row2\" class=\"row_heading level0 row2\" >2</th>\n",
       "      <td id=\"T_301ad_row2_col0\" class=\"data row2 col0\" >2010-01-06</td>\n",
       "      <td id=\"T_301ad_row2_col1\" class=\"data row2 col1\" >30.879999</td>\n",
       "      <td id=\"T_301ad_row2_col2\" class=\"data row2 col2\" >31.080000</td>\n",
       "      <td id=\"T_301ad_row2_col3\" class=\"data row2 col3\" >30.520000</td>\n",
       "      <td id=\"T_301ad_row2_col4\" class=\"data row2 col4\" >30.770000</td>\n",
       "      <td id=\"T_301ad_row2_col5\" class=\"data row2 col5\" >23.545338</td>\n",
       "      <td id=\"T_301ad_row2_col6\" class=\"data row2 col6\" >58182400</td>\n",
       "    </tr>\n",
       "    <tr>\n",
       "      <th id=\"T_301ad_level0_row3\" class=\"row_heading level0 row3\" >3</th>\n",
       "      <td id=\"T_301ad_row3_col0\" class=\"data row3 col0\" >2010-01-07</td>\n",
       "      <td id=\"T_301ad_row3_col1\" class=\"data row3 col1\" >30.629999</td>\n",
       "      <td id=\"T_301ad_row3_col2\" class=\"data row3 col2\" >30.700001</td>\n",
       "      <td id=\"T_301ad_row3_col3\" class=\"data row3 col3\" >30.190001</td>\n",
       "      <td id=\"T_301ad_row3_col4\" class=\"data row3 col4\" >30.450001</td>\n",
       "      <td id=\"T_301ad_row3_col5\" class=\"data row3 col5\" >23.300467</td>\n",
       "      <td id=\"T_301ad_row3_col6\" class=\"data row3 col6\" >50559700</td>\n",
       "    </tr>\n",
       "    <tr>\n",
       "      <th id=\"T_301ad_level0_row4\" class=\"row_heading level0 row4\" >4</th>\n",
       "      <td id=\"T_301ad_row4_col0\" class=\"data row4 col0\" >2010-01-08</td>\n",
       "      <td id=\"T_301ad_row4_col1\" class=\"data row4 col1\" >30.280001</td>\n",
       "      <td id=\"T_301ad_row4_col2\" class=\"data row4 col2\" >30.879999</td>\n",
       "      <td id=\"T_301ad_row4_col3\" class=\"data row4 col3\" >30.240000</td>\n",
       "      <td id=\"T_301ad_row4_col4\" class=\"data row4 col4\" >30.660000</td>\n",
       "      <td id=\"T_301ad_row4_col5\" class=\"data row4 col5\" >23.461161</td>\n",
       "      <td id=\"T_301ad_row4_col6\" class=\"data row4 col6\" >51197400</td>\n",
       "    </tr>\n",
       "  </tbody>\n",
       "</table>\n"
      ]
     },
     "metadata": {},
     "output_type": "display_data"
    }
   ],
   "source": [
    "df1 = pd.read_csv(\"../data/raw/AAPL.csv\")\n",
    "df2 = pd.read_csv(\"../data/raw/MSFT.csv\")\n",
    "\n",
    "df1_styler = df1.head().style.set_table_attributes(\"style='display:inline'\").set_caption('df1')\n",
    "df2_styler = df2.head().style.set_table_attributes(\"style='display:inline'\").set_caption('df2')\n",
    "\n",
    "display_html(df1_styler._repr_html_()+df2_styler._repr_html_(), raw=True)"
   ]
  },
  {
   "cell_type": "code",
   "execution_count": 3,
   "metadata": {},
   "outputs": [
    {
     "data": {
      "text/plain": [
       "(3271, 7)"
      ]
     },
     "execution_count": 3,
     "metadata": {},
     "output_type": "execute_result"
    }
   ],
   "source": [
    "df1.shape"
   ]
  },
  {
   "cell_type": "code",
   "execution_count": 4,
   "metadata": {},
   "outputs": [
    {
     "data": {
      "text/plain": [
       "(3271, 7)"
      ]
     },
     "execution_count": 4,
     "metadata": {},
     "output_type": "execute_result"
    }
   ],
   "source": [
    "df2.shape"
   ]
  },
  {
   "cell_type": "code",
   "execution_count": 5,
   "metadata": {},
   "outputs": [
    {
     "data": {
      "text/html": [
       "<style type=\"text/css\">\n",
       "</style>\n",
       "<table id=\"T_ce4a5\" style='display:inline'>\n",
       "  <caption>df1</caption>\n",
       "  <thead>\n",
       "    <tr>\n",
       "      <th class=\"blank level0\" >&nbsp;</th>\n",
       "      <th id=\"T_ce4a5_level0_col0\" class=\"col_heading level0 col0\" >Date</th>\n",
       "      <th id=\"T_ce4a5_level0_col1\" class=\"col_heading level0 col1\" >Open</th>\n",
       "      <th id=\"T_ce4a5_level0_col2\" class=\"col_heading level0 col2\" >High</th>\n",
       "      <th id=\"T_ce4a5_level0_col3\" class=\"col_heading level0 col3\" >Low</th>\n",
       "      <th id=\"T_ce4a5_level0_col4\" class=\"col_heading level0 col4\" >Close</th>\n",
       "      <th id=\"T_ce4a5_level0_col5\" class=\"col_heading level0 col5\" >Adj Close</th>\n",
       "      <th id=\"T_ce4a5_level0_col6\" class=\"col_heading level0 col6\" >Volume</th>\n",
       "    </tr>\n",
       "  </thead>\n",
       "  <tbody>\n",
       "    <tr>\n",
       "      <th id=\"T_ce4a5_level0_row0\" class=\"row_heading level0 row0\" >0</th>\n",
       "      <td id=\"T_ce4a5_row0_col0\" class=\"data row0 col0\" >2010-01-04</td>\n",
       "      <td id=\"T_ce4a5_row0_col1\" class=\"data row0 col1\" >7.622500</td>\n",
       "      <td id=\"T_ce4a5_row0_col2\" class=\"data row0 col2\" >7.660714</td>\n",
       "      <td id=\"T_ce4a5_row0_col3\" class=\"data row0 col3\" >7.585000</td>\n",
       "      <td id=\"T_ce4a5_row0_col4\" class=\"data row0 col4\" >7.643214</td>\n",
       "      <td id=\"T_ce4a5_row0_col5\" class=\"data row0 col5\" >6.515213</td>\n",
       "      <td id=\"T_ce4a5_row0_col6\" class=\"data row0 col6\" >493729600</td>\n",
       "    </tr>\n",
       "    <tr>\n",
       "      <th id=\"T_ce4a5_level0_row1\" class=\"row_heading level0 row1\" >1</th>\n",
       "      <td id=\"T_ce4a5_row1_col0\" class=\"data row1 col0\" >2010-01-05</td>\n",
       "      <td id=\"T_ce4a5_row1_col1\" class=\"data row1 col1\" >7.664286</td>\n",
       "      <td id=\"T_ce4a5_row1_col2\" class=\"data row1 col2\" >7.699643</td>\n",
       "      <td id=\"T_ce4a5_row1_col3\" class=\"data row1 col3\" >7.616071</td>\n",
       "      <td id=\"T_ce4a5_row1_col4\" class=\"data row1 col4\" >7.656429</td>\n",
       "      <td id=\"T_ce4a5_row1_col5\" class=\"data row1 col5\" >6.526476</td>\n",
       "      <td id=\"T_ce4a5_row1_col6\" class=\"data row1 col6\" >601904800</td>\n",
       "    </tr>\n",
       "    <tr>\n",
       "      <th id=\"T_ce4a5_level0_row2\" class=\"row_heading level0 row2\" >2</th>\n",
       "      <td id=\"T_ce4a5_row2_col0\" class=\"data row2 col0\" >2010-01-06</td>\n",
       "      <td id=\"T_ce4a5_row2_col1\" class=\"data row2 col1\" >7.656429</td>\n",
       "      <td id=\"T_ce4a5_row2_col2\" class=\"data row2 col2\" >7.686786</td>\n",
       "      <td id=\"T_ce4a5_row2_col3\" class=\"data row2 col3\" >7.526786</td>\n",
       "      <td id=\"T_ce4a5_row2_col4\" class=\"data row2 col4\" >7.534643</td>\n",
       "      <td id=\"T_ce4a5_row2_col5\" class=\"data row2 col5\" >6.422664</td>\n",
       "      <td id=\"T_ce4a5_row2_col6\" class=\"data row2 col6\" >552160000</td>\n",
       "    </tr>\n",
       "    <tr>\n",
       "      <th id=\"T_ce4a5_level0_row3\" class=\"row_heading level0 row3\" >3</th>\n",
       "      <td id=\"T_ce4a5_row3_col0\" class=\"data row3 col0\" >2010-01-07</td>\n",
       "      <td id=\"T_ce4a5_row3_col1\" class=\"data row3 col1\" >7.562500</td>\n",
       "      <td id=\"T_ce4a5_row3_col2\" class=\"data row3 col2\" >7.571429</td>\n",
       "      <td id=\"T_ce4a5_row3_col3\" class=\"data row3 col3\" >7.466071</td>\n",
       "      <td id=\"T_ce4a5_row3_col4\" class=\"data row3 col4\" >7.520714</td>\n",
       "      <td id=\"T_ce4a5_row3_col5\" class=\"data row3 col5\" >6.410790</td>\n",
       "      <td id=\"T_ce4a5_row3_col6\" class=\"data row3 col6\" >477131200</td>\n",
       "    </tr>\n",
       "    <tr>\n",
       "      <th id=\"T_ce4a5_level0_row4\" class=\"row_heading level0 row4\" >4</th>\n",
       "      <td id=\"T_ce4a5_row4_col0\" class=\"data row4 col0\" >2010-01-08</td>\n",
       "      <td id=\"T_ce4a5_row4_col1\" class=\"data row4 col1\" >7.510714</td>\n",
       "      <td id=\"T_ce4a5_row4_col2\" class=\"data row4 col2\" >7.571429</td>\n",
       "      <td id=\"T_ce4a5_row4_col3\" class=\"data row4 col3\" >7.466429</td>\n",
       "      <td id=\"T_ce4a5_row4_col4\" class=\"data row4 col4\" >7.570714</td>\n",
       "      <td id=\"T_ce4a5_row4_col5\" class=\"data row4 col5\" >6.453412</td>\n",
       "      <td id=\"T_ce4a5_row4_col6\" class=\"data row4 col6\" >447610800</td>\n",
       "    </tr>\n",
       "  </tbody>\n",
       "</table>\n",
       "<style type=\"text/css\">\n",
       "</style>\n",
       "<table id=\"T_313d4\" style='display:inline'>\n",
       "  <caption>df2</caption>\n",
       "  <thead>\n",
       "    <tr>\n",
       "      <th class=\"blank level0\" >&nbsp;</th>\n",
       "      <th id=\"T_313d4_level0_col0\" class=\"col_heading level0 col0\" >Date</th>\n",
       "      <th id=\"T_313d4_level0_col1\" class=\"col_heading level0 col1\" >Open</th>\n",
       "      <th id=\"T_313d4_level0_col2\" class=\"col_heading level0 col2\" >High</th>\n",
       "      <th id=\"T_313d4_level0_col3\" class=\"col_heading level0 col3\" >Low</th>\n",
       "      <th id=\"T_313d4_level0_col4\" class=\"col_heading level0 col4\" >Close</th>\n",
       "      <th id=\"T_313d4_level0_col5\" class=\"col_heading level0 col5\" >Adj Close</th>\n",
       "      <th id=\"T_313d4_level0_col6\" class=\"col_heading level0 col6\" >Volume</th>\n",
       "    </tr>\n",
       "  </thead>\n",
       "  <tbody>\n",
       "    <tr>\n",
       "      <th id=\"T_313d4_level0_row0\" class=\"row_heading level0 row0\" >0</th>\n",
       "      <td id=\"T_313d4_row0_col0\" class=\"data row0 col0\" >2010-01-04</td>\n",
       "      <td id=\"T_313d4_row0_col1\" class=\"data row0 col1\" >30.620001</td>\n",
       "      <td id=\"T_313d4_row0_col2\" class=\"data row0 col2\" >31.100000</td>\n",
       "      <td id=\"T_313d4_row0_col3\" class=\"data row0 col3\" >30.590000</td>\n",
       "      <td id=\"T_313d4_row0_col4\" class=\"data row0 col4\" >30.950001</td>\n",
       "      <td id=\"T_313d4_row0_col5\" class=\"data row0 col5\" >23.683071</td>\n",
       "      <td id=\"T_313d4_row0_col6\" class=\"data row0 col6\" >38409100</td>\n",
       "    </tr>\n",
       "    <tr>\n",
       "      <th id=\"T_313d4_level0_row1\" class=\"row_heading level0 row1\" >1</th>\n",
       "      <td id=\"T_313d4_row1_col0\" class=\"data row1 col0\" >2010-01-05</td>\n",
       "      <td id=\"T_313d4_row1_col1\" class=\"data row1 col1\" >30.850000</td>\n",
       "      <td id=\"T_313d4_row1_col2\" class=\"data row1 col2\" >31.100000</td>\n",
       "      <td id=\"T_313d4_row1_col3\" class=\"data row1 col3\" >30.639999</td>\n",
       "      <td id=\"T_313d4_row1_col4\" class=\"data row1 col4\" >30.959999</td>\n",
       "      <td id=\"T_313d4_row1_col5\" class=\"data row1 col5\" >23.690725</td>\n",
       "      <td id=\"T_313d4_row1_col6\" class=\"data row1 col6\" >49749600</td>\n",
       "    </tr>\n",
       "    <tr>\n",
       "      <th id=\"T_313d4_level0_row2\" class=\"row_heading level0 row2\" >2</th>\n",
       "      <td id=\"T_313d4_row2_col0\" class=\"data row2 col0\" >2010-01-06</td>\n",
       "      <td id=\"T_313d4_row2_col1\" class=\"data row2 col1\" >30.879999</td>\n",
       "      <td id=\"T_313d4_row2_col2\" class=\"data row2 col2\" >31.080000</td>\n",
       "      <td id=\"T_313d4_row2_col3\" class=\"data row2 col3\" >30.520000</td>\n",
       "      <td id=\"T_313d4_row2_col4\" class=\"data row2 col4\" >30.770000</td>\n",
       "      <td id=\"T_313d4_row2_col5\" class=\"data row2 col5\" >23.545338</td>\n",
       "      <td id=\"T_313d4_row2_col6\" class=\"data row2 col6\" >58182400</td>\n",
       "    </tr>\n",
       "    <tr>\n",
       "      <th id=\"T_313d4_level0_row3\" class=\"row_heading level0 row3\" >3</th>\n",
       "      <td id=\"T_313d4_row3_col0\" class=\"data row3 col0\" >2010-01-07</td>\n",
       "      <td id=\"T_313d4_row3_col1\" class=\"data row3 col1\" >30.629999</td>\n",
       "      <td id=\"T_313d4_row3_col2\" class=\"data row3 col2\" >30.700001</td>\n",
       "      <td id=\"T_313d4_row3_col3\" class=\"data row3 col3\" >30.190001</td>\n",
       "      <td id=\"T_313d4_row3_col4\" class=\"data row3 col4\" >30.450001</td>\n",
       "      <td id=\"T_313d4_row3_col5\" class=\"data row3 col5\" >23.300467</td>\n",
       "      <td id=\"T_313d4_row3_col6\" class=\"data row3 col6\" >50559700</td>\n",
       "    </tr>\n",
       "    <tr>\n",
       "      <th id=\"T_313d4_level0_row4\" class=\"row_heading level0 row4\" >4</th>\n",
       "      <td id=\"T_313d4_row4_col0\" class=\"data row4 col0\" >2010-01-08</td>\n",
       "      <td id=\"T_313d4_row4_col1\" class=\"data row4 col1\" >30.280001</td>\n",
       "      <td id=\"T_313d4_row4_col2\" class=\"data row4 col2\" >30.879999</td>\n",
       "      <td id=\"T_313d4_row4_col3\" class=\"data row4 col3\" >30.240000</td>\n",
       "      <td id=\"T_313d4_row4_col4\" class=\"data row4 col4\" >30.660000</td>\n",
       "      <td id=\"T_313d4_row4_col5\" class=\"data row4 col5\" >23.461161</td>\n",
       "      <td id=\"T_313d4_row4_col6\" class=\"data row4 col6\" >51197400</td>\n",
       "    </tr>\n",
       "  </tbody>\n",
       "</table>\n"
      ]
     },
     "metadata": {},
     "output_type": "display_data"
    }
   ],
   "source": [
    "df1_styler = df1.head().style.set_table_attributes(\"style='display:inline'\").set_caption('df1')\n",
    "df2_styler = df2.head().style.set_table_attributes(\"style='display:inline'\").set_caption('df2')\n",
    "\n",
    "display_html(df1_styler._repr_html_()+df2_styler._repr_html_(), raw=True)"
   ]
  },
  {
   "cell_type": "code",
   "execution_count": 6,
   "metadata": {},
   "outputs": [
    {
     "data": {
      "text/plain": [
       "Index(['Date', 'Open', 'High', 'Low', 'Close', 'Adj Close', 'Volume'], dtype='object')"
      ]
     },
     "execution_count": 6,
     "metadata": {},
     "output_type": "execute_result"
    }
   ],
   "source": [
    "df1.columns"
   ]
  },
  {
   "cell_type": "code",
   "execution_count": 7,
   "metadata": {},
   "outputs": [
    {
     "data": {
      "text/plain": [
       "Index(['Date', 'Open', 'High', 'Low', 'Close', 'Adj Close', 'Volume'], dtype='object')"
      ]
     },
     "execution_count": 7,
     "metadata": {},
     "output_type": "execute_result"
    }
   ],
   "source": [
    "df2.columns"
   ]
  },
  {
   "cell_type": "markdown",
   "metadata": {},
   "source": [
    "**open/closing:** narrow down graph to date, open, close, and pct_change columns"
   ]
  },
  {
   "cell_type": "code",
   "execution_count": 8,
   "metadata": {},
   "outputs": [
    {
     "data": {
      "text/plain": [
       "array([  7.6225  ,   7.664286,   7.656429, ..., 131.380005, 129.669998,\n",
       "       127.989998])"
      ]
     },
     "execution_count": 8,
     "metadata": {},
     "output_type": "execute_result"
    }
   ],
   "source": [
    "df1['Open'].unique()"
   ]
  },
  {
   "cell_type": "code",
   "execution_count": 9,
   "metadata": {},
   "outputs": [
    {
     "data": {
      "text/plain": [
       "array([ 30.620001,  30.85    ,  30.879999, ..., 238.699997, 236.889999,\n",
       "       235.649994])"
      ]
     },
     "execution_count": 9,
     "metadata": {},
     "output_type": "execute_result"
    }
   ],
   "source": [
    "df2['Open'].unique()"
   ]
  },
  {
   "cell_type": "code",
   "execution_count": 10,
   "metadata": {},
   "outputs": [
    {
     "data": {
      "text/plain": [
       "array([  7.643214,   7.656429,   7.534643, ..., 130.029999, 126.040001,\n",
       "       129.610001])"
      ]
     },
     "execution_count": 10,
     "metadata": {},
     "output_type": "execute_result"
    }
   ],
   "source": [
    "df1['Close'].unique()"
   ]
  },
  {
   "cell_type": "code",
   "execution_count": 11,
   "metadata": {},
   "outputs": [
    {
     "data": {
      "text/plain": [
       "array([ 30.950001,  30.959999,  30.77    , ..., 236.960007, 234.529999,\n",
       "       241.009995])"
      ]
     },
     "execution_count": 11,
     "metadata": {},
     "output_type": "execute_result"
    }
   ],
   "source": [
    "df2['Close'].unique()"
   ]
  },
  {
   "cell_type": "markdown",
   "metadata": {},
   "source": [
    "*change:* referenced: https://practicaldatascience.co.uk/data-science/how-to-calculate-percentage-change-between-columns-in-pandas#:~:text=Pandas%2C%20rather%20helpfully%2C%20includes%20a,one%20row%20and%20the%20next."
   ]
  },
  {
   "cell_type": "code",
   "execution_count": 12,
   "metadata": {},
   "outputs": [
    {
     "data": {
      "text/html": [
       "<style type=\"text/css\">\n",
       "</style>\n",
       "<table id=\"T_49559\" style='display:inline'>\n",
       "  <caption>df1</caption>\n",
       "  <thead>\n",
       "    <tr>\n",
       "      <th class=\"blank level0\" >&nbsp;</th>\n",
       "      <th id=\"T_49559_level0_col0\" class=\"col_heading level0 col0\" >Date</th>\n",
       "      <th id=\"T_49559_level0_col1\" class=\"col_heading level0 col1\" >Open</th>\n",
       "      <th id=\"T_49559_level0_col2\" class=\"col_heading level0 col2\" >Close</th>\n",
       "      <th id=\"T_49559_level0_col3\" class=\"col_heading level0 col3\" >pct_change</th>\n",
       "    </tr>\n",
       "  </thead>\n",
       "  <tbody>\n",
       "    <tr>\n",
       "      <th id=\"T_49559_level0_row0\" class=\"row_heading level0 row0\" >0</th>\n",
       "      <td id=\"T_49559_row0_col0\" class=\"data row0 col0\" >2010-01-04</td>\n",
       "      <td id=\"T_49559_row0_col1\" class=\"data row0 col1\" >7.622500</td>\n",
       "      <td id=\"T_49559_row0_col2\" class=\"data row0 col2\" >7.643214</td>\n",
       "      <td id=\"T_49559_row0_col3\" class=\"data row0 col3\" >0.002717</td>\n",
       "    </tr>\n",
       "    <tr>\n",
       "      <th id=\"T_49559_level0_row1\" class=\"row_heading level0 row1\" >1</th>\n",
       "      <td id=\"T_49559_row1_col0\" class=\"data row1 col0\" >2010-01-05</td>\n",
       "      <td id=\"T_49559_row1_col1\" class=\"data row1 col1\" >7.664286</td>\n",
       "      <td id=\"T_49559_row1_col2\" class=\"data row1 col2\" >7.656429</td>\n",
       "      <td id=\"T_49559_row1_col3\" class=\"data row1 col3\" >-0.001025</td>\n",
       "    </tr>\n",
       "    <tr>\n",
       "      <th id=\"T_49559_level0_row2\" class=\"row_heading level0 row2\" >2</th>\n",
       "      <td id=\"T_49559_row2_col0\" class=\"data row2 col0\" >2010-01-06</td>\n",
       "      <td id=\"T_49559_row2_col1\" class=\"data row2 col1\" >7.656429</td>\n",
       "      <td id=\"T_49559_row2_col2\" class=\"data row2 col2\" >7.534643</td>\n",
       "      <td id=\"T_49559_row2_col3\" class=\"data row2 col3\" >-0.015906</td>\n",
       "    </tr>\n",
       "    <tr>\n",
       "      <th id=\"T_49559_level0_row3\" class=\"row_heading level0 row3\" >3</th>\n",
       "      <td id=\"T_49559_row3_col0\" class=\"data row3 col0\" >2010-01-07</td>\n",
       "      <td id=\"T_49559_row3_col1\" class=\"data row3 col1\" >7.562500</td>\n",
       "      <td id=\"T_49559_row3_col2\" class=\"data row3 col2\" >7.520714</td>\n",
       "      <td id=\"T_49559_row3_col3\" class=\"data row3 col3\" >-0.005525</td>\n",
       "    </tr>\n",
       "    <tr>\n",
       "      <th id=\"T_49559_level0_row4\" class=\"row_heading level0 row4\" >4</th>\n",
       "      <td id=\"T_49559_row4_col0\" class=\"data row4 col0\" >2010-01-08</td>\n",
       "      <td id=\"T_49559_row4_col1\" class=\"data row4 col1\" >7.510714</td>\n",
       "      <td id=\"T_49559_row4_col2\" class=\"data row4 col2\" >7.570714</td>\n",
       "      <td id=\"T_49559_row4_col3\" class=\"data row4 col3\" >0.007989</td>\n",
       "    </tr>\n",
       "  </tbody>\n",
       "</table>\n",
       "<style type=\"text/css\">\n",
       "</style>\n",
       "<table id=\"T_9a3ec\" style='display:inline'>\n",
       "  <caption>df2</caption>\n",
       "  <thead>\n",
       "    <tr>\n",
       "      <th class=\"blank level0\" >&nbsp;</th>\n",
       "      <th id=\"T_9a3ec_level0_col0\" class=\"col_heading level0 col0\" >Date</th>\n",
       "      <th id=\"T_9a3ec_level0_col1\" class=\"col_heading level0 col1\" >Open</th>\n",
       "      <th id=\"T_9a3ec_level0_col2\" class=\"col_heading level0 col2\" >Close</th>\n",
       "      <th id=\"T_9a3ec_level0_col3\" class=\"col_heading level0 col3\" >pct_change</th>\n",
       "    </tr>\n",
       "  </thead>\n",
       "  <tbody>\n",
       "    <tr>\n",
       "      <th id=\"T_9a3ec_level0_row0\" class=\"row_heading level0 row0\" >0</th>\n",
       "      <td id=\"T_9a3ec_row0_col0\" class=\"data row0 col0\" >2010-01-04</td>\n",
       "      <td id=\"T_9a3ec_row0_col1\" class=\"data row0 col1\" >30.620001</td>\n",
       "      <td id=\"T_9a3ec_row0_col2\" class=\"data row0 col2\" >30.950001</td>\n",
       "      <td id=\"T_9a3ec_row0_col3\" class=\"data row0 col3\" >0.010777</td>\n",
       "    </tr>\n",
       "    <tr>\n",
       "      <th id=\"T_9a3ec_level0_row1\" class=\"row_heading level0 row1\" >1</th>\n",
       "      <td id=\"T_9a3ec_row1_col0\" class=\"data row1 col0\" >2010-01-05</td>\n",
       "      <td id=\"T_9a3ec_row1_col1\" class=\"data row1 col1\" >30.850000</td>\n",
       "      <td id=\"T_9a3ec_row1_col2\" class=\"data row1 col2\" >30.959999</td>\n",
       "      <td id=\"T_9a3ec_row1_col3\" class=\"data row1 col3\" >0.003566</td>\n",
       "    </tr>\n",
       "    <tr>\n",
       "      <th id=\"T_9a3ec_level0_row2\" class=\"row_heading level0 row2\" >2</th>\n",
       "      <td id=\"T_9a3ec_row2_col0\" class=\"data row2 col0\" >2010-01-06</td>\n",
       "      <td id=\"T_9a3ec_row2_col1\" class=\"data row2 col1\" >30.879999</td>\n",
       "      <td id=\"T_9a3ec_row2_col2\" class=\"data row2 col2\" >30.770000</td>\n",
       "      <td id=\"T_9a3ec_row2_col3\" class=\"data row2 col3\" >-0.003562</td>\n",
       "    </tr>\n",
       "    <tr>\n",
       "      <th id=\"T_9a3ec_level0_row3\" class=\"row_heading level0 row3\" >3</th>\n",
       "      <td id=\"T_9a3ec_row3_col0\" class=\"data row3 col0\" >2010-01-07</td>\n",
       "      <td id=\"T_9a3ec_row3_col1\" class=\"data row3 col1\" >30.629999</td>\n",
       "      <td id=\"T_9a3ec_row3_col2\" class=\"data row3 col2\" >30.450001</td>\n",
       "      <td id=\"T_9a3ec_row3_col3\" class=\"data row3 col3\" >-0.005877</td>\n",
       "    </tr>\n",
       "    <tr>\n",
       "      <th id=\"T_9a3ec_level0_row4\" class=\"row_heading level0 row4\" >4</th>\n",
       "      <td id=\"T_9a3ec_row4_col0\" class=\"data row4 col0\" >2010-01-08</td>\n",
       "      <td id=\"T_9a3ec_row4_col1\" class=\"data row4 col1\" >30.280001</td>\n",
       "      <td id=\"T_9a3ec_row4_col2\" class=\"data row4 col2\" >30.660000</td>\n",
       "      <td id=\"T_9a3ec_row4_col3\" class=\"data row4 col3\" >0.012550</td>\n",
       "    </tr>\n",
       "  </tbody>\n",
       "</table>\n"
      ]
     },
     "metadata": {},
     "output_type": "display_data"
    }
   ],
   "source": [
    "df1['pct_change'] = df1[['Open', 'Close']].pct_change(axis=1)['Close']\n",
    "df1 = df1.loc[:,['Date', 'Open', 'Close', 'pct_change']]\n",
    "\n",
    "df2['pct_change'] = df2[['Open', 'Close']].pct_change(axis=1)['Close']\n",
    "df2 = df2.loc[:,['Date', 'Open', 'Close', 'pct_change']]\n",
    "\n",
    "df1_styler = df1.head().style.set_table_attributes(\"style='display:inline'\").set_caption('df1')\n",
    "df2_styler = df2.head().style.set_table_attributes(\"style='display:inline'\").set_caption('df2')\n",
    "\n",
    "display_html(df1_styler._repr_html_()+df2_styler._repr_html_(), raw=True)"
   ]
  },
  {
   "cell_type": "markdown",
   "metadata": {},
   "source": [
    "**greatest change:**\n",
    "referenced https://sparkbyexamples.com/pandas/pandas-get-index-from-dataframe/#:~:text=You%20can%20get%20the%20Index,DataFrame%20to%20get%20the%20index."
   ]
  },
  {
   "cell_type": "code",
   "execution_count": 13,
   "metadata": {},
   "outputs": [
    {
     "data": {
      "text/plain": [
       "0.08696110100301047"
      ]
     },
     "execution_count": 13,
     "metadata": {},
     "output_type": "execute_result"
    }
   ],
   "source": [
    "big_apple = df1['pct_change'].max()\n",
    "big_apple"
   ]
  },
  {
   "cell_type": "code",
   "execution_count": 14,
   "metadata": {},
   "outputs": [
    {
     "data": {
      "text/plain": [
       "0.08102449521028587"
      ]
     },
     "execution_count": 14,
     "metadata": {},
     "output_type": "execute_result"
    }
   ],
   "source": [
    "big_microsoft = df2['pct_change'].max()\n",
    "big_microsoft"
   ]
  },
  {
   "cell_type": "code",
   "execution_count": 15,
   "metadata": {},
   "outputs": [
    {
     "data": {
      "text/plain": [
       "1419"
      ]
     },
     "execution_count": 15,
     "metadata": {},
     "output_type": "execute_result"
    }
   ],
   "source": [
    "d = np.where(df1['pct_change'] == big_apple)\n",
    "d[0][0]"
   ]
  },
  {
   "cell_type": "code",
   "execution_count": 16,
   "metadata": {},
   "outputs": [
    {
     "data": {
      "text/plain": [
       "3057"
      ]
     },
     "execution_count": 16,
     "metadata": {},
     "output_type": "execute_result"
    }
   ],
   "source": [
    "d = np.where(df2['pct_change'] == big_microsoft)\n",
    "d[0][0]"
   ]
  },
  {
   "cell_type": "markdown",
   "metadata": {},
   "source": [
    "**30-Day moving averages:** the average price of the recent 30 days"
   ]
  },
  {
   "cell_type": "code",
   "execution_count": 17,
   "metadata": {},
   "outputs": [
    {
     "data": {
      "text/html": [
       "<style type=\"text/css\">\n",
       "</style>\n",
       "<table id=\"T_7884a\" style='display:inline'>\n",
       "  <caption>df1</caption>\n",
       "  <thead>\n",
       "    <tr>\n",
       "      <th class=\"blank level0\" >&nbsp;</th>\n",
       "      <th id=\"T_7884a_level0_col0\" class=\"col_heading level0 col0\" >Date</th>\n",
       "      <th id=\"T_7884a_level0_col1\" class=\"col_heading level0 col1\" >Open</th>\n",
       "      <th id=\"T_7884a_level0_col2\" class=\"col_heading level0 col2\" >Close</th>\n",
       "      <th id=\"T_7884a_level0_col3\" class=\"col_heading level0 col3\" >pct_change</th>\n",
       "      <th id=\"T_7884a_level0_col4\" class=\"col_heading level0 col4\" >30D move</th>\n",
       "    </tr>\n",
       "  </thead>\n",
       "  <tbody>\n",
       "    <tr>\n",
       "      <th id=\"T_7884a_level0_row0\" class=\"row_heading level0 row0\" >0</th>\n",
       "      <td id=\"T_7884a_row0_col0\" class=\"data row0 col0\" >2010-01-04</td>\n",
       "      <td id=\"T_7884a_row0_col1\" class=\"data row0 col1\" >7.622500</td>\n",
       "      <td id=\"T_7884a_row0_col2\" class=\"data row0 col2\" >7.643214</td>\n",
       "      <td id=\"T_7884a_row0_col3\" class=\"data row0 col3\" >0.002717</td>\n",
       "      <td id=\"T_7884a_row0_col4\" class=\"data row0 col4\" >nan</td>\n",
       "    </tr>\n",
       "    <tr>\n",
       "      <th id=\"T_7884a_level0_row1\" class=\"row_heading level0 row1\" >1</th>\n",
       "      <td id=\"T_7884a_row1_col0\" class=\"data row1 col0\" >2010-01-05</td>\n",
       "      <td id=\"T_7884a_row1_col1\" class=\"data row1 col1\" >7.664286</td>\n",
       "      <td id=\"T_7884a_row1_col2\" class=\"data row1 col2\" >7.656429</td>\n",
       "      <td id=\"T_7884a_row1_col3\" class=\"data row1 col3\" >-0.001025</td>\n",
       "      <td id=\"T_7884a_row1_col4\" class=\"data row1 col4\" >nan</td>\n",
       "    </tr>\n",
       "    <tr>\n",
       "      <th id=\"T_7884a_level0_row2\" class=\"row_heading level0 row2\" >2</th>\n",
       "      <td id=\"T_7884a_row2_col0\" class=\"data row2 col0\" >2010-01-06</td>\n",
       "      <td id=\"T_7884a_row2_col1\" class=\"data row2 col1\" >7.656429</td>\n",
       "      <td id=\"T_7884a_row2_col2\" class=\"data row2 col2\" >7.534643</td>\n",
       "      <td id=\"T_7884a_row2_col3\" class=\"data row2 col3\" >-0.015906</td>\n",
       "      <td id=\"T_7884a_row2_col4\" class=\"data row2 col4\" >nan</td>\n",
       "    </tr>\n",
       "    <tr>\n",
       "      <th id=\"T_7884a_level0_row3\" class=\"row_heading level0 row3\" >3</th>\n",
       "      <td id=\"T_7884a_row3_col0\" class=\"data row3 col0\" >2010-01-07</td>\n",
       "      <td id=\"T_7884a_row3_col1\" class=\"data row3 col1\" >7.562500</td>\n",
       "      <td id=\"T_7884a_row3_col2\" class=\"data row3 col2\" >7.520714</td>\n",
       "      <td id=\"T_7884a_row3_col3\" class=\"data row3 col3\" >-0.005525</td>\n",
       "      <td id=\"T_7884a_row3_col4\" class=\"data row3 col4\" >nan</td>\n",
       "    </tr>\n",
       "    <tr>\n",
       "      <th id=\"T_7884a_level0_row4\" class=\"row_heading level0 row4\" >4</th>\n",
       "      <td id=\"T_7884a_row4_col0\" class=\"data row4 col0\" >2010-01-08</td>\n",
       "      <td id=\"T_7884a_row4_col1\" class=\"data row4 col1\" >7.510714</td>\n",
       "      <td id=\"T_7884a_row4_col2\" class=\"data row4 col2\" >7.570714</td>\n",
       "      <td id=\"T_7884a_row4_col3\" class=\"data row4 col3\" >0.007989</td>\n",
       "      <td id=\"T_7884a_row4_col4\" class=\"data row4 col4\" >nan</td>\n",
       "    </tr>\n",
       "  </tbody>\n",
       "</table>\n",
       "<style type=\"text/css\">\n",
       "</style>\n",
       "<table id=\"T_8bda7\" style='display:inline'>\n",
       "  <caption>df2</caption>\n",
       "  <thead>\n",
       "    <tr>\n",
       "      <th class=\"blank level0\" >&nbsp;</th>\n",
       "      <th id=\"T_8bda7_level0_col0\" class=\"col_heading level0 col0\" >Date</th>\n",
       "      <th id=\"T_8bda7_level0_col1\" class=\"col_heading level0 col1\" >Open</th>\n",
       "      <th id=\"T_8bda7_level0_col2\" class=\"col_heading level0 col2\" >Close</th>\n",
       "      <th id=\"T_8bda7_level0_col3\" class=\"col_heading level0 col3\" >pct_change</th>\n",
       "      <th id=\"T_8bda7_level0_col4\" class=\"col_heading level0 col4\" >30D move</th>\n",
       "    </tr>\n",
       "  </thead>\n",
       "  <tbody>\n",
       "    <tr>\n",
       "      <th id=\"T_8bda7_level0_row0\" class=\"row_heading level0 row0\" >0</th>\n",
       "      <td id=\"T_8bda7_row0_col0\" class=\"data row0 col0\" >2010-01-04</td>\n",
       "      <td id=\"T_8bda7_row0_col1\" class=\"data row0 col1\" >30.620001</td>\n",
       "      <td id=\"T_8bda7_row0_col2\" class=\"data row0 col2\" >30.950001</td>\n",
       "      <td id=\"T_8bda7_row0_col3\" class=\"data row0 col3\" >0.010777</td>\n",
       "      <td id=\"T_8bda7_row0_col4\" class=\"data row0 col4\" >nan</td>\n",
       "    </tr>\n",
       "    <tr>\n",
       "      <th id=\"T_8bda7_level0_row1\" class=\"row_heading level0 row1\" >1</th>\n",
       "      <td id=\"T_8bda7_row1_col0\" class=\"data row1 col0\" >2010-01-05</td>\n",
       "      <td id=\"T_8bda7_row1_col1\" class=\"data row1 col1\" >30.850000</td>\n",
       "      <td id=\"T_8bda7_row1_col2\" class=\"data row1 col2\" >30.959999</td>\n",
       "      <td id=\"T_8bda7_row1_col3\" class=\"data row1 col3\" >0.003566</td>\n",
       "      <td id=\"T_8bda7_row1_col4\" class=\"data row1 col4\" >nan</td>\n",
       "    </tr>\n",
       "    <tr>\n",
       "      <th id=\"T_8bda7_level0_row2\" class=\"row_heading level0 row2\" >2</th>\n",
       "      <td id=\"T_8bda7_row2_col0\" class=\"data row2 col0\" >2010-01-06</td>\n",
       "      <td id=\"T_8bda7_row2_col1\" class=\"data row2 col1\" >30.879999</td>\n",
       "      <td id=\"T_8bda7_row2_col2\" class=\"data row2 col2\" >30.770000</td>\n",
       "      <td id=\"T_8bda7_row2_col3\" class=\"data row2 col3\" >-0.003562</td>\n",
       "      <td id=\"T_8bda7_row2_col4\" class=\"data row2 col4\" >nan</td>\n",
       "    </tr>\n",
       "    <tr>\n",
       "      <th id=\"T_8bda7_level0_row3\" class=\"row_heading level0 row3\" >3</th>\n",
       "      <td id=\"T_8bda7_row3_col0\" class=\"data row3 col0\" >2010-01-07</td>\n",
       "      <td id=\"T_8bda7_row3_col1\" class=\"data row3 col1\" >30.629999</td>\n",
       "      <td id=\"T_8bda7_row3_col2\" class=\"data row3 col2\" >30.450001</td>\n",
       "      <td id=\"T_8bda7_row3_col3\" class=\"data row3 col3\" >-0.005877</td>\n",
       "      <td id=\"T_8bda7_row3_col4\" class=\"data row3 col4\" >nan</td>\n",
       "    </tr>\n",
       "    <tr>\n",
       "      <th id=\"T_8bda7_level0_row4\" class=\"row_heading level0 row4\" >4</th>\n",
       "      <td id=\"T_8bda7_row4_col0\" class=\"data row4 col0\" >2010-01-08</td>\n",
       "      <td id=\"T_8bda7_row4_col1\" class=\"data row4 col1\" >30.280001</td>\n",
       "      <td id=\"T_8bda7_row4_col2\" class=\"data row4 col2\" >30.660000</td>\n",
       "      <td id=\"T_8bda7_row4_col3\" class=\"data row4 col3\" >0.012550</td>\n",
       "      <td id=\"T_8bda7_row4_col4\" class=\"data row4 col4\" >nan</td>\n",
       "    </tr>\n",
       "  </tbody>\n",
       "</table>\n"
      ]
     },
     "metadata": {},
     "output_type": "display_data"
    }
   ],
   "source": [
    "df1['30D move'] = df1['Close'].rolling(window=30).mean()\n",
    "df2['30D move'] = df2['Close'].rolling(window=30).mean()\n",
    "\n",
    "df1_styler = df1.head().style.set_table_attributes(\"style='display:inline'\").set_caption('df1')\n",
    "df2_styler = df2.head().style.set_table_attributes(\"style='display:inline'\").set_caption('df2')\n",
    "\n",
    "display_html(df1_styler._repr_html_()+df2_styler._repr_html_(), raw=True)\n"
   ]
  },
  {
   "cell_type": "code",
   "execution_count": 18,
   "metadata": {},
   "outputs": [],
   "source": [
    "df2['30D move'] = df2['Close'].rolling(window=30).mean()\n"
   ]
  },
  {
   "cell_type": "markdown",
   "metadata": {},
   "source": [
    "**cleaned up rows with null values**"
   ]
  },
  {
   "cell_type": "code",
   "execution_count": 19,
   "metadata": {},
   "outputs": [
    {
     "data": {
      "text/html": [
       "<style type=\"text/css\">\n",
       "</style>\n",
       "<table id=\"T_ec53a\" style='display:inline'>\n",
       "  <caption>df1</caption>\n",
       "  <thead>\n",
       "    <tr>\n",
       "      <th class=\"blank level0\" >&nbsp;</th>\n",
       "      <th id=\"T_ec53a_level0_col0\" class=\"col_heading level0 col0\" >Date</th>\n",
       "      <th id=\"T_ec53a_level0_col1\" class=\"col_heading level0 col1\" >Open</th>\n",
       "      <th id=\"T_ec53a_level0_col2\" class=\"col_heading level0 col2\" >Close</th>\n",
       "      <th id=\"T_ec53a_level0_col3\" class=\"col_heading level0 col3\" >pct_change</th>\n",
       "      <th id=\"T_ec53a_level0_col4\" class=\"col_heading level0 col4\" >30D move</th>\n",
       "    </tr>\n",
       "  </thead>\n",
       "  <tbody>\n",
       "    <tr>\n",
       "      <th id=\"T_ec53a_level0_row0\" class=\"row_heading level0 row0\" >29</th>\n",
       "      <td id=\"T_ec53a_row0_col0\" class=\"data row0 col0\" >2010-02-16</td>\n",
       "      <td id=\"T_ec53a_row0_col1\" class=\"data row0 col1\" >7.212143</td>\n",
       "      <td id=\"T_ec53a_row0_col2\" class=\"data row0 col2\" >7.264286</td>\n",
       "      <td id=\"T_ec53a_row0_col3\" class=\"data row0 col3\" >0.007230</td>\n",
       "      <td id=\"T_ec53a_row0_col4\" class=\"data row0 col4\" >7.275952</td>\n",
       "    </tr>\n",
       "    <tr>\n",
       "      <th id=\"T_ec53a_level0_row1\" class=\"row_heading level0 row1\" >30</th>\n",
       "      <td id=\"T_ec53a_row1_col0\" class=\"data row1 col0\" >2010-02-17</td>\n",
       "      <td id=\"T_ec53a_row1_col1\" class=\"data row1 col1\" >7.292500</td>\n",
       "      <td id=\"T_ec53a_row1_col2\" class=\"data row1 col2\" >7.233929</td>\n",
       "      <td id=\"T_ec53a_row1_col3\" class=\"data row1 col3\" >-0.008032</td>\n",
       "      <td id=\"T_ec53a_row1_col4\" class=\"data row1 col4\" >7.262310</td>\n",
       "    </tr>\n",
       "    <tr>\n",
       "      <th id=\"T_ec53a_level0_row2\" class=\"row_heading level0 row2\" >31</th>\n",
       "      <td id=\"T_ec53a_row2_col0\" class=\"data row2 col0\" >2010-02-18</td>\n",
       "      <td id=\"T_ec53a_row2_col1\" class=\"data row2 col1\" >7.201071</td>\n",
       "      <td id=\"T_ec53a_row2_col2\" class=\"data row2 col2\" >7.247500</td>\n",
       "      <td id=\"T_ec53a_row2_col3\" class=\"data row2 col3\" >0.006448</td>\n",
       "      <td id=\"T_ec53a_row2_col4\" class=\"data row2 col4\" >7.248679</td>\n",
       "    </tr>\n",
       "    <tr>\n",
       "      <th id=\"T_ec53a_level0_row3\" class=\"row_heading level0 row3\" >32</th>\n",
       "      <td id=\"T_ec53a_row3_col0\" class=\"data row3 col0\" >2010-02-19</td>\n",
       "      <td id=\"T_ec53a_row3_col1\" class=\"data row3 col1\" >7.209286</td>\n",
       "      <td id=\"T_ec53a_row3_col2\" class=\"data row3 col2\" >7.202500</td>\n",
       "      <td id=\"T_ec53a_row3_col3\" class=\"data row3 col3\" >-0.000941</td>\n",
       "      <td id=\"T_ec53a_row3_col4\" class=\"data row3 col4\" >7.237607</td>\n",
       "    </tr>\n",
       "    <tr>\n",
       "      <th id=\"T_ec53a_level0_row4\" class=\"row_heading level0 row4\" >33</th>\n",
       "      <td id=\"T_ec53a_row4_col0\" class=\"data row4 col0\" >2010-02-22</td>\n",
       "      <td id=\"T_ec53a_row4_col1\" class=\"data row4 col1\" >7.226429</td>\n",
       "      <td id=\"T_ec53a_row4_col2\" class=\"data row4 col2\" >7.157857</td>\n",
       "      <td id=\"T_ec53a_row4_col3\" class=\"data row4 col3\" >-0.009489</td>\n",
       "      <td id=\"T_ec53a_row4_col4\" class=\"data row4 col4\" >7.225512</td>\n",
       "    </tr>\n",
       "  </tbody>\n",
       "</table>\n",
       "<style type=\"text/css\">\n",
       "</style>\n",
       "<table id=\"T_3805b\" style='display:inline'>\n",
       "  <caption>df2</caption>\n",
       "  <thead>\n",
       "    <tr>\n",
       "      <th class=\"blank level0\" >&nbsp;</th>\n",
       "      <th id=\"T_3805b_level0_col0\" class=\"col_heading level0 col0\" >Date</th>\n",
       "      <th id=\"T_3805b_level0_col1\" class=\"col_heading level0 col1\" >Open</th>\n",
       "      <th id=\"T_3805b_level0_col2\" class=\"col_heading level0 col2\" >Close</th>\n",
       "      <th id=\"T_3805b_level0_col3\" class=\"col_heading level0 col3\" >pct_change</th>\n",
       "      <th id=\"T_3805b_level0_col4\" class=\"col_heading level0 col4\" >30D move</th>\n",
       "    </tr>\n",
       "  </thead>\n",
       "  <tbody>\n",
       "    <tr>\n",
       "      <th id=\"T_3805b_level0_row0\" class=\"row_heading level0 row0\" >29</th>\n",
       "      <td id=\"T_3805b_row0_col0\" class=\"data row0 col0\" >2010-02-16</td>\n",
       "      <td id=\"T_3805b_row0_col1\" class=\"data row0 col1\" >28.129999</td>\n",
       "      <td id=\"T_3805b_row0_col2\" class=\"data row0 col2\" >28.350000</td>\n",
       "      <td id=\"T_3805b_row0_col3\" class=\"data row0 col3\" >0.007821</td>\n",
       "      <td id=\"T_3805b_row0_col4\" class=\"data row0 col4\" >29.409000</td>\n",
       "    </tr>\n",
       "    <tr>\n",
       "      <th id=\"T_3805b_level0_row1\" class=\"row_heading level0 row1\" >30</th>\n",
       "      <td id=\"T_3805b_row1_col0\" class=\"data row1 col0\" >2010-02-17</td>\n",
       "      <td id=\"T_3805b_row1_col1\" class=\"data row1 col1\" >28.530001</td>\n",
       "      <td id=\"T_3805b_row1_col2\" class=\"data row1 col2\" >28.590000</td>\n",
       "      <td id=\"T_3805b_row1_col3\" class=\"data row1 col3\" >0.002103</td>\n",
       "      <td id=\"T_3805b_row1_col4\" class=\"data row1 col4\" >29.330333</td>\n",
       "    </tr>\n",
       "    <tr>\n",
       "      <th id=\"T_3805b_level0_row2\" class=\"row_heading level0 row2\" >31</th>\n",
       "      <td id=\"T_3805b_row2_col0\" class=\"data row2 col0\" >2010-02-18</td>\n",
       "      <td id=\"T_3805b_row2_col1\" class=\"data row2 col1\" >28.590000</td>\n",
       "      <td id=\"T_3805b_row2_col2\" class=\"data row2 col2\" >28.969999</td>\n",
       "      <td id=\"T_3805b_row2_col3\" class=\"data row2 col3\" >0.013291</td>\n",
       "      <td id=\"T_3805b_row2_col4\" class=\"data row2 col4\" >29.264000</td>\n",
       "    </tr>\n",
       "    <tr>\n",
       "      <th id=\"T_3805b_level0_row3\" class=\"row_heading level0 row3\" >32</th>\n",
       "      <td id=\"T_3805b_row3_col0\" class=\"data row3 col0\" >2010-02-19</td>\n",
       "      <td id=\"T_3805b_row3_col1\" class=\"data row3 col1\" >28.790001</td>\n",
       "      <td id=\"T_3805b_row3_col2\" class=\"data row3 col2\" >28.770000</td>\n",
       "      <td id=\"T_3805b_row3_col3\" class=\"data row3 col3\" >-0.000695</td>\n",
       "      <td id=\"T_3805b_row3_col4\" class=\"data row3 col4\" >29.197333</td>\n",
       "    </tr>\n",
       "    <tr>\n",
       "      <th id=\"T_3805b_level0_row4\" class=\"row_heading level0 row4\" >33</th>\n",
       "      <td id=\"T_3805b_row4_col0\" class=\"data row4 col0\" >2010-02-22</td>\n",
       "      <td id=\"T_3805b_row4_col1\" class=\"data row4 col1\" >28.840000</td>\n",
       "      <td id=\"T_3805b_row4_col2\" class=\"data row4 col2\" >28.730000</td>\n",
       "      <td id=\"T_3805b_row4_col3\" class=\"data row4 col3\" >-0.003814</td>\n",
       "      <td id=\"T_3805b_row4_col4\" class=\"data row4 col4\" >29.140000</td>\n",
       "    </tr>\n",
       "  </tbody>\n",
       "</table>\n"
      ]
     },
     "metadata": {},
     "output_type": "display_data"
    }
   ],
   "source": [
    "df1 = df1.tail(df1.shape[0] - 29)\n",
    "df2 = df2.tail(df2.shape[0] - 29)\n",
    "\n",
    "df1_styler = df1.head().style.set_table_attributes(\"style='display:inline'\").set_caption('df1')\n",
    "df2_styler = df2.head().style.set_table_attributes(\"style='display:inline'\").set_caption('df2')\n",
    "\n",
    "display_html(df1_styler._repr_html_()+df2_styler._repr_html_(), raw=True)"
   ]
  },
  {
   "cell_type": "markdown",
   "metadata": {},
   "source": [
    "**format date**"
   ]
  },
  {
   "cell_type": "code",
   "execution_count": 20,
   "metadata": {},
   "outputs": [],
   "source": [
    "df1['Date'] = pd.to_datetime(df1['Date'])\n",
    "df2['Date'] = pd.to_datetime(df1['Date'])"
   ]
  },
  {
   "cell_type": "markdown",
   "metadata": {},
   "source": [
    "**30 Day average chart over time:**"
   ]
  },
  {
   "cell_type": "code",
   "execution_count": 21,
   "metadata": {},
   "outputs": [
    {
     "data": {
      "image/png": "[encoded data removed]",
      "text/plain": [
       "<Figure size 640x480 with 1 Axes>"
      ]
     },
     "metadata": {},
     "output_type": "display_data"
    },
    {
     "data": {
      "image/png": "[encoded data removed]",
      "text/plain": [
       "<Figure size 640x480 with 1 Axes>"
      ]
     },
     "metadata": {},
     "output_type": "display_data"
    }
   ],
   "source": [
    "sns.lineplot(x='Date', y='30D move', data=df1)\n",
    "plt.title('30-day Rolling of AAPL Stock Price')\n",
    "plt.xlabel('time\\n(years)')\n",
    "plt.ylabel('price\\n($USD)')\n",
    "plt.grid(linestyle = '--', color = 'gray')\n",
    "plt.show()\n",
    "\n",
    "sns.lineplot(x='Date', y='30D move', data=df2)\n",
    "plt.title('30-day Rolling of MSFT Stock Price')\n",
    "plt.xlabel('time\\n(years)')\n",
    "plt.ylabel('price\\n($USD)')\n",
    "plt.grid(linestyle = '--', color = 'gray')\n",
    "plt.show()"
   ]
  },
  {
   "cell_type": "markdown",
   "metadata": {},
   "source": [
    "**price percent change difference:**"
   ]
  },
  {
   "cell_type": "markdown",
   "metadata": {},
   "source": [
    "**create new dataframe with only % changes**"
   ]
  },
  {
   "cell_type": "code",
   "execution_count": 52,
   "metadata": {},
   "outputs": [
    {
     "data": {
      "text/html": [
       "<div>\n",
       "<style scoped>\n",
       "    .dataframe tbody tr th:only-of-type {\n",
       "        vertical-align: middle;\n",
       "    }\n",
       "\n",
       "    .dataframe tbody tr th {\n",
       "        vertical-align: top;\n",
       "    }\n",
       "\n",
       "    .dataframe thead th {\n",
       "        text-align: right;\n",
       "    }\n",
       "</style>\n",
       "<table border=\"1\" class=\"dataframe\">\n",
       "  <thead>\n",
       "    <tr style=\"text-align: right;\">\n",
       "      <th></th>\n",
       "      <th>Open</th>\n",
       "      <th>Close</th>\n",
       "    </tr>\n",
       "    <tr>\n",
       "      <th>Date</th>\n",
       "      <th></th>\n",
       "      <th></th>\n",
       "    </tr>\n",
       "  </thead>\n",
       "  <tbody>\n",
       "    <tr>\n",
       "      <th>2010-02-16</th>\n",
       "      <td>7.212143</td>\n",
       "      <td>7.264286</td>\n",
       "    </tr>\n",
       "    <tr>\n",
       "      <th>2010-02-17</th>\n",
       "      <td>7.292500</td>\n",
       "      <td>7.233929</td>\n",
       "    </tr>\n",
       "    <tr>\n",
       "      <th>2010-02-18</th>\n",
       "      <td>7.201071</td>\n",
       "      <td>7.247500</td>\n",
       "    </tr>\n",
       "    <tr>\n",
       "      <th>2010-02-19</th>\n",
       "      <td>7.209286</td>\n",
       "      <td>7.202500</td>\n",
       "    </tr>\n",
       "    <tr>\n",
       "      <th>2010-02-22</th>\n",
       "      <td>7.226429</td>\n",
       "      <td>7.157857</td>\n",
       "    </tr>\n",
       "    <tr>\n",
       "      <th>...</th>\n",
       "      <td>...</td>\n",
       "      <td>...</td>\n",
       "    </tr>\n",
       "    <tr>\n",
       "      <th>2022-12-22</th>\n",
       "      <td>134.350006</td>\n",
       "      <td>132.229996</td>\n",
       "    </tr>\n",
       "    <tr>\n",
       "      <th>2022-12-23</th>\n",
       "      <td>130.919998</td>\n",
       "      <td>131.860001</td>\n",
       "    </tr>\n",
       "    <tr>\n",
       "      <th>2022-12-27</th>\n",
       "      <td>131.380005</td>\n",
       "      <td>130.029999</td>\n",
       "    </tr>\n",
       "    <tr>\n",
       "      <th>2022-12-28</th>\n",
       "      <td>129.669998</td>\n",
       "      <td>126.040001</td>\n",
       "    </tr>\n",
       "    <tr>\n",
       "      <th>2022-12-29</th>\n",
       "      <td>127.989998</td>\n",
       "      <td>129.610001</td>\n",
       "    </tr>\n",
       "  </tbody>\n",
       "</table>\n",
       "<p>3242 rows × 2 columns</p>\n",
       "</div>"
      ],
      "text/plain": [
       "                  Open       Close\n",
       "Date                              \n",
       "2010-02-16    7.212143    7.264286\n",
       "2010-02-17    7.292500    7.233929\n",
       "2010-02-18    7.201071    7.247500\n",
       "2010-02-19    7.209286    7.202500\n",
       "2010-02-22    7.226429    7.157857\n",
       "...                ...         ...\n",
       "2022-12-22  134.350006  132.229996\n",
       "2022-12-23  130.919998  131.860001\n",
       "2022-12-27  131.380005  130.029999\n",
       "2022-12-28  129.669998  126.040001\n",
       "2022-12-29  127.989998  129.610001\n",
       "\n",
       "[3242 rows x 2 columns]"
      ]
     },
     "execution_count": 52,
     "metadata": {},
     "output_type": "execute_result"
    }
   ],
   "source": [
    "#calculate cumulative % change\n",
    "days = df1.groupby(df1.Date.dt.date).agg({'Open': 'first', 'Close': 'last'})\n",
    "days\n",
    "#100 * (days.Open - days.Close.shift()) / days.Open"
   ]
  },
  {
   "cell_type": "code",
   "execution_count": 36,
   "metadata": {},
   "outputs": [
    {
     "data": {
      "text/html": [
       "<div>\n",
       "<style scoped>\n",
       "    .dataframe tbody tr th:only-of-type {\n",
       "        vertical-align: middle;\n",
       "    }\n",
       "\n",
       "    .dataframe tbody tr th {\n",
       "        vertical-align: top;\n",
       "    }\n",
       "\n",
       "    .dataframe thead th {\n",
       "        text-align: right;\n",
       "    }\n",
       "</style>\n",
       "<table border=\"1\" class=\"dataframe\">\n",
       "  <thead>\n",
       "    <tr style=\"text-align: right;\">\n",
       "      <th></th>\n",
       "      <th>Date</th>\n",
       "      <th>Open_x</th>\n",
       "      <th>Close_x</th>\n",
       "      <th>pct_change</th>\n",
       "      <th>30D move_x</th>\n",
       "      <th>Open_y</th>\n",
       "      <th>Close_y</th>\n",
       "      <th>30D move_y</th>\n",
       "    </tr>\n",
       "  </thead>\n",
       "  <tbody>\n",
       "    <tr>\n",
       "      <th>0</th>\n",
       "      <td>2010-02-16</td>\n",
       "      <td>7.212143</td>\n",
       "      <td>7.264286</td>\n",
       "      <td>0.007230</td>\n",
       "      <td>7.275952</td>\n",
       "      <td>NaN</td>\n",
       "      <td>NaN</td>\n",
       "      <td>NaN</td>\n",
       "    </tr>\n",
       "    <tr>\n",
       "      <th>1</th>\n",
       "      <td>2010-02-17</td>\n",
       "      <td>7.292500</td>\n",
       "      <td>7.233929</td>\n",
       "      <td>-0.008032</td>\n",
       "      <td>7.262310</td>\n",
       "      <td>NaN</td>\n",
       "      <td>NaN</td>\n",
       "      <td>NaN</td>\n",
       "    </tr>\n",
       "    <tr>\n",
       "      <th>2</th>\n",
       "      <td>2010-02-18</td>\n",
       "      <td>7.201071</td>\n",
       "      <td>7.247500</td>\n",
       "      <td>0.006448</td>\n",
       "      <td>7.248679</td>\n",
       "      <td>NaN</td>\n",
       "      <td>NaN</td>\n",
       "      <td>NaN</td>\n",
       "    </tr>\n",
       "    <tr>\n",
       "      <th>3</th>\n",
       "      <td>2010-02-19</td>\n",
       "      <td>7.209286</td>\n",
       "      <td>7.202500</td>\n",
       "      <td>-0.000941</td>\n",
       "      <td>7.237607</td>\n",
       "      <td>NaN</td>\n",
       "      <td>NaN</td>\n",
       "      <td>NaN</td>\n",
       "    </tr>\n",
       "    <tr>\n",
       "      <th>4</th>\n",
       "      <td>2010-02-22</td>\n",
       "      <td>7.226429</td>\n",
       "      <td>7.157857</td>\n",
       "      <td>-0.009489</td>\n",
       "      <td>7.225512</td>\n",
       "      <td>NaN</td>\n",
       "      <td>NaN</td>\n",
       "      <td>NaN</td>\n",
       "    </tr>\n",
       "    <tr>\n",
       "      <th>...</th>\n",
       "      <td>...</td>\n",
       "      <td>...</td>\n",
       "      <td>...</td>\n",
       "      <td>...</td>\n",
       "      <td>...</td>\n",
       "      <td>...</td>\n",
       "      <td>...</td>\n",
       "      <td>...</td>\n",
       "    </tr>\n",
       "    <tr>\n",
       "      <th>6479</th>\n",
       "      <td>2022-12-22</td>\n",
       "      <td>NaN</td>\n",
       "      <td>NaN</td>\n",
       "      <td>-0.012725</td>\n",
       "      <td>NaN</td>\n",
       "      <td>241.259995</td>\n",
       "      <td>238.190002</td>\n",
       "      <td>246.168666</td>\n",
       "    </tr>\n",
       "    <tr>\n",
       "      <th>6480</th>\n",
       "      <td>2022-12-23</td>\n",
       "      <td>NaN</td>\n",
       "      <td>NaN</td>\n",
       "      <td>0.011097</td>\n",
       "      <td>NaN</td>\n",
       "      <td>236.110001</td>\n",
       "      <td>238.729996</td>\n",
       "      <td>246.026999</td>\n",
       "    </tr>\n",
       "    <tr>\n",
       "      <th>6481</th>\n",
       "      <td>2022-12-27</td>\n",
       "      <td>NaN</td>\n",
       "      <td>NaN</td>\n",
       "      <td>-0.007289</td>\n",
       "      <td>NaN</td>\n",
       "      <td>238.699997</td>\n",
       "      <td>236.960007</td>\n",
       "      <td>245.688666</td>\n",
       "    </tr>\n",
       "    <tr>\n",
       "      <th>6482</th>\n",
       "      <td>2022-12-28</td>\n",
       "      <td>NaN</td>\n",
       "      <td>NaN</td>\n",
       "      <td>-0.009962</td>\n",
       "      <td>NaN</td>\n",
       "      <td>236.889999</td>\n",
       "      <td>234.529999</td>\n",
       "      <td>245.454666</td>\n",
       "    </tr>\n",
       "    <tr>\n",
       "      <th>6483</th>\n",
       "      <td>2022-12-29</td>\n",
       "      <td>NaN</td>\n",
       "      <td>NaN</td>\n",
       "      <td>0.022746</td>\n",
       "      <td>NaN</td>\n",
       "      <td>235.649994</td>\n",
       "      <td>241.009995</td>\n",
       "      <td>245.422666</td>\n",
       "    </tr>\n",
       "  </tbody>\n",
       "</table>\n",
       "<p>6484 rows × 8 columns</p>\n",
       "</div>"
      ],
      "text/plain": [
       "           Date    Open_x   Close_x  pct_change  30D move_x      Open_y  \\\n",
       "0    2010-02-16  7.212143  7.264286    0.007230    7.275952         NaN   \n",
       "1    2010-02-17  7.292500  7.233929   -0.008032    7.262310         NaN   \n",
       "2    2010-02-18  7.201071  7.247500    0.006448    7.248679         NaN   \n",
       "3    2010-02-19  7.209286  7.202500   -0.000941    7.237607         NaN   \n",
       "4    2010-02-22  7.226429  7.157857   -0.009489    7.225512         NaN   \n",
       "...         ...       ...       ...         ...         ...         ...   \n",
       "6479 2022-12-22       NaN       NaN   -0.012725         NaN  241.259995   \n",
       "6480 2022-12-23       NaN       NaN    0.011097         NaN  236.110001   \n",
       "6481 2022-12-27       NaN       NaN   -0.007289         NaN  238.699997   \n",
       "6482 2022-12-28       NaN       NaN   -0.009962         NaN  236.889999   \n",
       "6483 2022-12-29       NaN       NaN    0.022746         NaN  235.649994   \n",
       "\n",
       "         Close_y  30D move_y  \n",
       "0            NaN         NaN  \n",
       "1            NaN         NaN  \n",
       "2            NaN         NaN  \n",
       "3            NaN         NaN  \n",
       "4            NaN         NaN  \n",
       "...          ...         ...  \n",
       "6479  238.190002  246.168666  \n",
       "6480  238.729996  246.026999  \n",
       "6481  236.960007  245.688666  \n",
       "6482  234.529999  245.454666  \n",
       "6483  241.009995  245.422666  \n",
       "\n",
       "[6484 rows x 8 columns]"
      ]
     },
     "execution_count": 36,
     "metadata": {},
     "output_type": "execute_result"
    }
   ],
   "source": [
    "left = df1\n",
    "right = df2\n",
    "\n",
    "l_r = pd.merge(left, right, on=['Date', 'pct_change'], how='outer')\n",
    "l_r"
   ]
  },
  {
   "cell_type": "code",
   "execution_count": null,
   "metadata": {},
   "outputs": [],
   "source": []
  },
  {
   "cell_type": "code",
   "execution_count": null,
   "metadata": {},
   "outputs": [],
   "source": []
  },
  {
   "cell_type": "markdown",
   "metadata": {},
   "source": [
    "**summary:**\n",
    "after comparing the 30 day rolling prices of AAPL and MSFT, I will be able to further analyze the difference in percent change between the two companies. This can provide insight into whether there was a tech industry incline, or a competition between the AAPL and MSFT."
   ]
  },
  {
   "cell_type": "code",
   "execution_count": null,
   "metadata": {},
   "outputs": [],
   "source": []
  }
 ],
 "metadata": {
  "kernelspec": {
   "display_name": "Python 3 (ipykernel)",
   "language": "python",
   "name": "python3"
  },
  "language_info": {
   "codemirror_mode": {
    "name": "ipython",
    "version": 3
   },
   "file_extension": ".py",
   "mimetype": "text/x-python",
   "name": "python",
   "nbconvert_exporter": "python",
   "pygments_lexer": "ipython3",
   "version": "3.10.8"
  }
 },
 "nbformat": 4,
 "nbformat_minor": 4
}
