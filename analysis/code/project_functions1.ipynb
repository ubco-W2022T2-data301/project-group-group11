{
 "cells": [
  {
   "cell_type": "code",
   "execution_count": null,
   "id": "f86c6a4c-cf29-451f-81c0-404ea012d8ba",
   "metadata": {},
   "outputs": [],
   "source": [
    "import pandas as pd\n",
    "# Function to load Dataframes\n",
    "def load(path_to_csv_file):\n",
    "    return pd.read_csv(path_to_csv_file)\n",
    "\n",
    "def process(df1, df2):\n",
    "    \n",
    "        "
   ]
  }
 ],
 "metadata": {
  "kernelspec": {
   "display_name": "Python 3 (ipykernel)",
   "language": "python",
   "name": "python3"
  },
  "language_info": {
   "codemirror_mode": {
    "name": "ipython",
    "version": 3
   },
   "file_extension": ".py",
   "mimetype": "text/x-python",
   "name": "python",
   "nbconvert_exporter": "python",
   "pygments_lexer": "ipython3",
   "version": "3.10.8"
  }
 },
 "nbformat": 4,
 "nbformat_minor": 5
}
